{
 "cells": [
  {
   "cell_type": "code",
   "execution_count": 1,
   "metadata": {},
   "outputs": [],
   "source": [
    "import pandas as pd, numpy as np\n",
    "from datetime import timedelta, datetime as dt\n",
    "import warnings\n",
    "from IPython.display import clear_output, display\n",
    "\n",
    "#Ignore alerts\n",
    "warnings.filterwarnings(\"ignore\")"
   ]
  },
  {
   "cell_type": "code",
   "execution_count": 2,
   "metadata": {},
   "outputs": [],
   "source": [
    "# Read recipe inputs - Telemetria\n",
    "date_col_alertas = 'data_inicio'\n",
    "gr_Alertas_Telemetria_prepared2_sem_manutencao_dummy = pd.read_csv(\"GR_Alertas_Telemetria_prepared2_sem_manutencao_dummy.csv\", sep=\";\")\n",
    "gr_Alertas_Telemetria_prepared2_sem_manutencao_dummy_df = pd.DataFrame(gr_Alertas_Telemetria_prepared2_sem_manutencao_dummy)\n",
    "gr_Alertas_Telemetria_prepared2_sem_manutencao_dummy_df['MATRÍCULA'] = gr_Alertas_Telemetria_prepared2_sem_manutencao_dummy_df['MATRÍCULA'].astype(str)\n",
    "gr_Alertas_Telemetria_prepared2_sem_manutencao_dummy_df[date_col_alertas] = gr_Alertas_Telemetria_prepared2_sem_manutencao_dummy_df[date_col_alertas].astype(int)\n",
    "gr_Alertas_Telemetria_prepared2_sem_manutencao_dummy_df.fillna('', inplace=True)\n",
    "\n",
    "# gr_Alertas_Telemetria_prepared2_sem_manutencao_dummy_df.head(2)"
   ]
  },
  {
   "cell_type": "code",
   "execution_count": 3,
   "metadata": {},
   "outputs": [],
   "source": [
    "# Read recipe inputs - Acidentes\n",
    "date_col_acidentes = 'data_sinistro'\n",
    "gr_Sinistros_Acidentes_arrumado = pd.read_csv(\"GR_Sinistros_Acidentes_arrumado.csv\", sep=\";\")\n",
    "gr_Sinistros_Acidentes_arrumado_df = pd.DataFrame(gr_Sinistros_Acidentes_arrumado)\n",
    "gr_Sinistros_Acidentes_arrumado_df['MATRÍCULA'] = gr_Sinistros_Acidentes_arrumado_df['MATRÍCULA'].astype(str)\n",
    "gr_Sinistros_Acidentes_arrumado_df[date_col_acidentes] = gr_Sinistros_Acidentes_arrumado_df[date_col_acidentes].astype(int)\n",
    "gr_Sinistros_Acidentes_arrumado_df.fillna('', inplace=True)\n",
    "\n",
    "# gr_Sinistros_Acidentes_arrumado_df.head()"
   ]
  },
  {
   "cell_type": "code",
   "execution_count": 4,
   "metadata": {},
   "outputs": [],
   "source": [
    "# Functions\n",
    "def get_drivers_windowed_events(df_info, end_date, driver_id_col, date_col_info, row_filter, window):\n",
    "    init_date = int(dt.strftime(dt.strptime(str(end_date), '%Y%m%d') - timedelta(days=window), '%Y%m%d'))\n",
    "    query_str = f\"{init_date} <= {date_col_info} <= {end_date} and {driver_id_col} == '{row_filter}'\"\n",
    "    df = df_info.query(query_str)\n",
    "    df.replace('', 0, inplace=True)\n",
    "    return df\n"
   ]
  },
  {
   "cell_type": "code",
   "execution_count": 5,
   "metadata": {},
   "outputs": [],
   "source": [
    "# Shorter variables\n",
    "df_acidentes = gr_Sinistros_Acidentes_arrumado_df\n",
    "df_alertas = gr_Alertas_Telemetria_prepared2_sem_manutencao_dummy_df\n",
    "\n",
    "# Parameters\n",
    "window = 360 #days"
   ]
  },
  {
   "cell_type": "code",
   "execution_count": 6,
   "metadata": {},
   "outputs": [],
   "source": [
    "# Counting definitions\n",
    "alertas_cols = list(df_alertas.columns)\n",
    "prefixes_to_count = ['classe_', 'velocidade_']\n",
    "\n",
    "cols_to_add_in_acidentes = [c for c in alertas_cols if any(c.startswith(p) for p in prefixes_to_count)]\n"
   ]
  },
  {
   "cell_type": "code",
   "execution_count": 7,
   "metadata": {},
   "outputs": [],
   "source": [
    "df_count = pd.DataFrame('', index=df_acidentes.index, columns=['SIN'] + cols_to_add_in_acidentes)\n",
    "df_count['SIN'] = df_acidentes['SIN']\n",
    "# df_count"
   ]
  },
  {
   "cell_type": "code",
   "execution_count": 8,
   "metadata": {},
   "outputs": [
    {
     "data": {
      "text/plain": [
       "SIN                                                                                      9112020\n",
       "MATRÍCULA                                                                                    N/I\n",
       "data_hora_do_sinistro_parsed                                            2020-05-30T19:41:00.000Z\n",
       "data_sinistro                                                                           20200530\n",
       "dia_da_semana                                                                                  6\n",
       "CAVALO                                                                                   FDZ0316\n",
       "UF                                                                                            SP\n",
       "CIDADE                                                                                CAFELÂNDIA\n",
       "REINCIDÊNCIA SINISTRO                                                                          0\n",
       "PERÍODO                                                                                    NOITE\n",
       "LOCAL OCORRÊNCIA                                                                          SP 300\n",
       "CLASSIFICAÇÃO RAMO                                                                      ACIDENTE\n",
       "NATUREZA DA OCORRÊNCIA                                                           COLISÃO LATERAL\n",
       "CAP. TONELADA [TOMBAMENTO]                                                         NÃO SE APLICA\n",
       "PESO CARREGADO [TOMBAMENTO]                                                        NÃO SE APLICA\n",
       "LATITUDE - LONGITUDE (ROUBO/ACIDENTE/FURTO)                               -21.855089, -49.585918\n",
       "DESCRIÇÃO DA OCORRÊNCIA                        AGREGADO DA JBS TRAFEGAVA PELA RODOVIA MARECHA...\n",
       "TIPO DE MERCADORIA                                                                      CELULOSE\n",
       "TIPO PISTA                                                                                  RETA\n",
       "CONDIÇÕES PISTA                                                                             SECA\n",
       "PAVIMENTAÇÃO                                                                                 SIM\n",
       "CONDIÇÕES DO TEMPO                                                                       NOTURNO\n",
       "TIPO DE VIA                                                                                RURAL\n",
       "MOTIVO DO SINISTRO                                                              FALTA DE ATENÇÃO\n",
       "CLASSIFICAÇÃO DO SINISTRO                                                            IMPRUDÊNCIA\n",
       "RESPONSABILIDADE                                                                    AGREGADO JBS\n",
       "VELOCIDADE                                                                        de_50_a_80kmph\n",
       "ESTADO CLINICO JBS                                                                 NÃO SE APLICA\n",
       "MONTA JBS                                                                            SEM AVARIAS\n",
       "MONTA VEÍCULO JBS - B.O                                                            NÃO SE APLICA\n",
       "Name: 1271, dtype: object"
      ]
     },
     "execution_count": 8,
     "metadata": {},
     "output_type": "execute_result"
    }
   ],
   "source": [
    "df_acidentes.iloc[1271]"
   ]
  },
  {
   "cell_type": "code",
   "execution_count": 10,
   "metadata": {},
   "outputs": [
    {
     "name": "stdout",
     "output_type": "stream",
     "text": [
      "4970 of 4970\n"
     ]
    }
   ],
   "source": [
    "index_list = df_acidentes.index\n",
    "drivers_reg = 'MATRÍCULA'\n",
    "\n",
    "# Counting alerts for each event\n",
    "for index in index_list:\n",
    "\n",
    "    # if index > 0:\n",
    "    #     break\n",
    "\n",
    "    if index%10 == 0:\n",
    "        clear_output(wait=True)\n",
    "        print(f'\\r{index} of {max(index_list)}')  # use display(f) if you encounter performance issues\n",
    "\n",
    "    end_date = df_acidentes[date_col_acidentes][index]\n",
    "    driver_id = df_acidentes[drivers_reg][index]\n",
    "\n",
    "    df_window = get_drivers_windowed_events(df_alertas, end_date, drivers_reg, date_col_alertas, driver_id, window)\n",
    "\n",
    "    if df_window.empty:\n",
    "        continue\n",
    "    else:\n",
    "        df_count_new = df_window[cols_to_add_in_acidentes].sum().astype(int)\n",
    "        for col in cols_to_add_in_acidentes:\n",
    "            df_count[col][index] = df_count_new[col]\n"
   ]
  },
  {
   "cell_type": "code",
   "execution_count": 12,
   "metadata": {},
   "outputs": [
    {
     "data": {
      "text/plain": [
       "SIN                               892021\n",
       "classe_evento_velocidade               0\n",
       "classe_evento_curva                   11\n",
       "classe_evento_freio                    0\n",
       "classe_evento_aceleracao               0\n",
       "classe_evento_outro                    0\n",
       "classe_evento_freio_motor              0\n",
       "classe_evento_direcao_perigosa         0\n",
       "classe_evento_cambio                   0\n",
       "classe_evento_autenticacao             0\n",
       "velocidade_acima_de_80_kmph            0\n",
       "velocidade_de_50_ate_80_kmph           8\n",
       "velocidade_de_30_ate_50_kmph           3\n",
       "velocidade_ate_30_kmph                 0\n",
       "velocidade_N/I                         0\n",
       "velocidade_parado                      0\n",
       "Name: 50, dtype: object"
      ]
     },
     "execution_count": 12,
     "metadata": {},
     "output_type": "execute_result"
    }
   ],
   "source": [
    "df_count.iloc[50]"
   ]
  }
 ],
 "metadata": {
  "interpreter": {
   "hash": "916dbcbb3f70747c44a77c7bcd40155683ae19c65e1c03b4aa3499c5328201f1"
  },
  "kernelspec": {
   "display_name": "Python 3.9.7 64-bit",
   "language": "python",
   "name": "python3"
  },
  "language_info": {
   "codemirror_mode": {
    "name": "ipython",
    "version": 3
   },
   "file_extension": ".py",
   "mimetype": "text/x-python",
   "name": "python",
   "nbconvert_exporter": "python",
   "pygments_lexer": "ipython3",
   "version": "3.9.7"
  },
  "orig_nbformat": 4
 },
 "nbformat": 4,
 "nbformat_minor": 2
}
